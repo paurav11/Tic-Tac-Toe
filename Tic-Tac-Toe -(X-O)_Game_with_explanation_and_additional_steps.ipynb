{
 "cells": [
  {
   "cell_type": "markdown",
   "metadata": {},
   "source": [
    "# Tic-Tac-Toe"
   ]
  },
  {
   "cell_type": "markdown",
   "metadata": {},
   "source": [
    "@author: Paurav Shah"
   ]
  },
  {
   "cell_type": "code",
   "execution_count": 1,
   "metadata": {},
   "outputs": [],
   "source": [
    "from IPython.display import clear_output"
   ]
  },
  {
   "cell_type": "markdown",
   "metadata": {},
   "source": [
    "Step 1: Design and Display the Tic-Tac-Toe board."
   ]
  },
  {
   "cell_type": "code",
   "execution_count": 2,
   "metadata": {},
   "outputs": [],
   "source": [
    "def display_board(board):\n",
    "    \n",
    "    row1 = ' | '.join(board[0:3])\n",
    "    row2 = ' | '.join(board[3:6])\n",
    "    row3 = ' | '.join(board[6:9])\n",
    "    \n",
    "    print(' ',row3,' ')\n",
    "    print(\"-------------\")\n",
    "    print(' ',row2,' ')\n",
    "    print(\"-------------\")\n",
    "    print(' ',row1,' ')"
   ]
  },
  {
   "cell_type": "code",
   "execution_count": 3,
   "metadata": {},
   "outputs": [],
   "source": [
    "# # Empty Board\n",
    "# tic_tac_toe_board = []\n",
    "\n",
    "# for _ in range(0,9):\n",
    "#     tic_tac_toe_board.append(' ')\n",
    "    \n",
    "# display_board(tic_tac_toe_board)\n",
    "\n",
    "\n",
    "# # Complete Board\n",
    "# tic_tac_toe_board = ['X','O','O','X','X','O','X','O','O']\n",
    "# display_board(tic_tac_toe_board)"
   ]
  },
  {
   "cell_type": "markdown",
   "metadata": {},
   "source": [
    "Step-2: Save player input on the Tic-Tac-Toe board based on choice and position provided by each player."
   ]
  },
  {
   "cell_type": "code",
   "execution_count": 4,
   "metadata": {},
   "outputs": [],
   "source": [
    "def save_player_input(choice, position):    \n",
    "    tic_tac_toe_board[position-1] = choice "
   ]
  },
  {
   "cell_type": "code",
   "execution_count": 5,
   "metadata": {},
   "outputs": [],
   "source": [
    "# tic_tac_toe_board = []\n",
    "\n",
    "# for _ in range(0,9):\n",
    "#     tic_tac_toe_board.append(' ')\n",
    "\n",
    "# for i in range(0,10):\n",
    "#     clear_output()\n",
    "#     print(\"\\n\")\n",
    "#     display_board(tic_tac_toe_board)\n",
    "#     print(\"\\n\")\n",
    "#     if i<9:\n",
    "#         player_choice_position = int(input(\"Enter position (1-9): \"))\n",
    "#         player_choice = input(\"Select X or O: \")\n",
    "#         if player_choice.upper() == 'X' or player_choice.upper() == 'O':\n",
    "#             save_player_input(player_choice.upper(), player_choice_position)\n",
    "#         else:\n",
    "#             save_player_input(' ', player_choice_position)\n",
    "#             clear_output()\n",
    "#             print(\"\\n\")\n",
    "#             display_board(tic_tac_toe_board)\n",
    "#             print(\"\\n\")\n",
    "#             print(\"Game over due to incorrect input! Try again.\")\n",
    "#             break\n",
    "#     else:\n",
    "#         print(\"Game Over!\")"
   ]
  },
  {
   "cell_type": "markdown",
   "metadata": {},
   "source": [
    "Step-3: Check whether any of players has won."
   ]
  },
  {
   "cell_type": "code",
   "execution_count": 6,
   "metadata": {},
   "outputs": [],
   "source": [
    "def win_check(board):\n",
    "    \n",
    "    if (board[0] == board[1] == board[2] == 'X' \n",
    "    or board[3] == board[4] == board[5] == 'X' \n",
    "    or board[6] == board[7] == board[8] == 'X'\n",
    "    or board[0] == board[3] == board[6] == 'X'\n",
    "    or board[1] == board[4] == board[7] == 'X'\n",
    "    or board[2] == board[5] == board[8] == 'X'\n",
    "    or board[0] == board[4] == board[8] == 'X'\n",
    "    or board[2] == board[4] == board[6] == 'X'):\n",
    "        return 'X'\n",
    "    elif (board[0] == board[1] == board[2] == 'O' \n",
    "    or board[3] == board[4] == board[5] == 'O' \n",
    "    or board[6] == board[7] == board[8] == 'O'\n",
    "    or board[0] == board[3] == board[6] == 'O'\n",
    "    or board[1] == board[4] == board[7] == 'O'\n",
    "    or board[2] == board[5] == board[8] == 'O'\n",
    "    or board[0] == board[4] == board[8] == 'O'\n",
    "    or board[2] == board[4] == board[6] == 'O'):\n",
    "        return 'O'\n",
    "    else:\n",
    "        return 'Pass'       "
   ]
  },
  {
   "cell_type": "code",
   "execution_count": 7,
   "metadata": {},
   "outputs": [],
   "source": [
    "# tic_tac_toe_board = ['X','O','X','X','O','X','O','X','O']\n",
    "# display_board(tic_tac_toe_board)\n",
    "# result = win_check(tic_tac_toe_board)\n",
    "# print(\"\\n\",result)\n",
    "\n",
    "# if result == 'X':\n",
    "#     print(\"Player 1 wins!\")\n",
    "# elif result == 'O':\n",
    "#     print(\"Player 2 wins!\")\n",
    "# elif result == 'Pass':\n",
    "#     pass"
   ]
  },
  {
   "cell_type": "markdown",
   "metadata": {},
   "source": [
    "Step-4: Update Tic-Tac-Toe board based on new inputs."
   ]
  },
  {
   "cell_type": "code",
   "execution_count": 8,
   "metadata": {},
   "outputs": [],
   "source": [
    "def update_board():\n",
    "    clear_output()\n",
    "        \n",
    "    for key,value in players.items():\n",
    "        print(key, ' - ', value)\n",
    "\n",
    "    print(\"\\n\")\n",
    "    display_board(tic_tac_toe_board)\n",
    "    print(\"\\n\")"
   ]
  },
  {
   "cell_type": "markdown",
   "metadata": {},
   "source": [
    "Step-5: Start taking player names and selecting choice."
   ]
  },
  {
   "cell_type": "code",
   "execution_count": 20,
   "metadata": {},
   "outputs": [],
   "source": [
    "def start_game():\n",
    "       \n",
    "    clear_output()\n",
    "    global player_1\n",
    "    player_1 = input(\"Player-1: \").capitalize()\n",
    "    player_1_choice = input(f'{player_1}, please select X or O: ')\n",
    "    player_1_choice = player_1_choice.upper()\n",
    "    \n",
    "    while player_1_choice not in ['X','O']:\n",
    "        clear_output()\n",
    "        print('You have to select either X or O. Nothing else will be accepted.\\n')\n",
    "        print(f'Player 1: {player_1}')\n",
    "        player_1_choice = input(f'{player_1.capitalize()}, please select X or O: ')\n",
    "        player_1_choice = player_1_choice.upper()\n",
    "    \n",
    "    global player_2\n",
    "    player_2 = input(\"Player-2: \").capitalize()\n",
    "    if player_1_choice == 'X':\n",
    "        player_2_choice = 'O'\n",
    "    else:\n",
    "        player_2_choice = 'X'\n",
    "        \n",
    "    global players\n",
    "    players = {'{}'.format(player_1):'{}'.format(player_1_choice), '{}'.format(player_2):'{}'.format(player_2_choice)}\n",
    "    \n",
    "    take_player_inputs()"
   ]
  },
  {
   "cell_type": "markdown",
   "metadata": {},
   "source": [
    "Step-6: Taking positions to enter player choice on the Tic-Tac-Toe board and continuously checking whether any player has won or not."
   ]
  },
  {
   "cell_type": "code",
   "execution_count": 18,
   "metadata": {},
   "outputs": [],
   "source": [
    "def take_player_inputs():\n",
    "    \n",
    "    def get_key(val): \n",
    "        for key,value in players.items(): \n",
    "             if val == value:\n",
    "                    return key\n",
    "        return 'No key available for this value!'\n",
    "    \n",
    "    player_input_positions = []\n",
    "           \n",
    "    for i in range(1,11):\n",
    "       \n",
    "        update_board()\n",
    "        \n",
    "        if i<10:\n",
    "            \n",
    "            if i%2!=0:\n",
    "                try:\n",
    "                    player_choice_position = int(input(f\"{player_1}'s turn, enter position (1-9): \"))\n",
    "                    if player_choice_position >=1 and player_choice_position <=9:\n",
    "                        if player_choice_position not in player_input_positions:\n",
    "                            player_input_positions.append(player_choice_position)\n",
    "                            save_player_input(players[f'{player_1}'], player_choice_position)\n",
    "                        else:\n",
    "                            print('\\nCannot change entered inputs! Start again.')\n",
    "                            break\n",
    "                            play_again()\n",
    "                    else:\n",
    "                        print('\\nGame over due to invalid input!')\n",
    "                        break\n",
    "                        play_again()\n",
    "                except:\n",
    "                    print('\\nGame over due to invalid input!')\n",
    "                    break\n",
    "                    play_again()\n",
    "                    \n",
    "            else:\n",
    "                try:\n",
    "                    player_choice_position = int(input(f\"{player_2}'s turn, enter position (1-9): \"))\n",
    "                    if player_choice_position >=1 and player_choice_position <=9:\n",
    "                        if player_choice_position not in player_input_positions:\n",
    "                            player_input_positions.append(player_choice_position)\n",
    "                            save_player_input(players[f'{player_2}'], player_choice_position)\n",
    "                        else:\n",
    "                            print('\\nCannot change entered inputs! Start again.')\n",
    "                            break\n",
    "                            play_again()\n",
    "                    else:\n",
    "                        print('\\nGame over due to invalid input!')\n",
    "                        break\n",
    "                        play_again()\n",
    "                except:\n",
    "                    print('\\nGame over due to invalid input!')\n",
    "                    break\n",
    "                    play_again()\n",
    "                 \n",
    "            result = win_check(tic_tac_toe_board)\n",
    "            if result == 'X' or result == 'O':\n",
    "                update_board()\n",
    "                print(f'Bravo, {get_key(result)} has won the game!')\n",
    "                break\n",
    "            elif result == 'Pass':\n",
    "                pass\n",
    "            \n",
    "        if i==10:\n",
    "            result = win_check(tic_tac_toe_board)\n",
    "            if result == 'X' or result == 'O':\n",
    "                update_board()\n",
    "                print(f'Bravo, {get_key(result)} has won the game!')\n",
    "                break\n",
    "            elif result == 'Pass':\n",
    "                update_board()\n",
    "                print('Draw!')            "
   ]
  },
  {
   "cell_type": "markdown",
   "metadata": {},
   "source": [
    "Step-7: Asking players to play again."
   ]
  },
  {
   "cell_type": "code",
   "execution_count": 11,
   "metadata": {},
   "outputs": [],
   "source": [
    "def play_again():\n",
    "    replay = input('Do you wish to play again? (Y/N): ')\n",
    "    \n",
    "    if replay.upper() == 'Y':\n",
    "        clear_output()\n",
    "        players.clear()\n",
    "        open_tic_tac_toe_game()\n",
    "    elif replay.upper() == 'N':\n",
    "        clear_output()\n",
    "        print('Thank you for taking your time. Do come back soon.')\n",
    "    else:\n",
    "        clear_output()\n",
    "        players.clear()\n",
    "        print('Invalid choice! Try again.')\n",
    "        play_again()"
   ]
  },
  {
   "cell_type": "markdown",
   "metadata": {},
   "source": [
    "Step-8: Launch Tic-Tac-Toe game with Tic-Tac-Toe board and instruction."
   ]
  },
  {
   "cell_type": "code",
   "execution_count": 15,
   "metadata": {},
   "outputs": [],
   "source": [
    "def open_tic_tac_toe_game():\n",
    "    \n",
    "    global tic_tac_toe_board\n",
    "    tic_tac_toe_board = []\n",
    "\n",
    "    for _ in range(0,9):\n",
    "        tic_tac_toe_board.append(' ')\n",
    "    \n",
    "    print('Hey, Guys! Welcome to Tic-Tac-Toe.\\n')\n",
    "    print('This is how our Tic-Tac-Toe board looks and numbers within it represent positions to enter either X or O.\\n')\n",
    "    \n",
    "    sample_board = []\n",
    "    for i in range(1,10):\n",
    "        sample_board.append('{}'.format(i))\n",
    "\n",
    "    display_board(sample_board)\n",
    "\n",
    "    game_flag = input(\"\\nLet's Play? (Y/N): \")\n",
    "\n",
    "    if game_flag.upper() == 'Y':\n",
    "        start_game()\n",
    "        play_again()\n",
    "    elif game_flag.upper() == 'N':\n",
    "        clear_output()\n",
    "        play_again()\n",
    "    else:\n",
    "        clear_output()\n",
    "        print('Invalid choice! Try again.')\n",
    "        play_again()"
   ]
  },
  {
   "cell_type": "code",
   "execution_count": 21,
   "metadata": {},
   "outputs": [
    {
     "name": "stdout",
     "output_type": "stream",
     "text": [
      "Thank you for taking your time. Do come back soon.\n"
     ]
    }
   ],
   "source": [
    "open_tic_tac_toe_game()"
   ]
  }
 ],
 "metadata": {
  "kernelspec": {
   "display_name": "Python 3",
   "language": "python",
   "name": "python3"
  },
  "language_info": {
   "codemirror_mode": {
    "name": "ipython",
    "version": 3
   },
   "file_extension": ".py",
   "mimetype": "text/x-python",
   "name": "python",
   "nbconvert_exporter": "python",
   "pygments_lexer": "ipython3",
   "version": "3.7.4"
  }
 },
 "nbformat": 4,
 "nbformat_minor": 4
}
